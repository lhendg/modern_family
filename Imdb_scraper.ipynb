{
 "cells": [
  {
   "cell_type": "markdown",
   "metadata": {},
   "source": [
    "## Importing Packages"
   ]
  },
  {
   "cell_type": "code",
   "execution_count": 1,
   "metadata": {},
   "outputs": [],
   "source": [
    "import pandas as pd \n",
    "\n",
    "from requests import get\n",
    "from bs4 import BeautifulSoup as BS"
   ]
  },
  {
   "cell_type": "markdown",
   "metadata": {},
   "source": [
    "## Scraping Episodes Data"
   ]
  },
  {
   "cell_type": "code",
   "execution_count": 4,
   "metadata": {},
   "outputs": [],
   "source": [
    "mf = []\n",
    "for season_no in range(1,12):\n",
    "    response = get('https://www.imdb.com/title/tt1442437/episodes?season=' + str(season_no))\n",
    "    page = BS(response.text, 'html.parser')\n",
    "    the_episodes = page.find_all('div', class_ = 'info')\n",
    "\n",
    "    for episodes in the_episodes:\n",
    "            season = season_no\n",
    "            episode = episodes.meta['content']\n",
    "            title = episodes.a['title']\n",
    "            airdate = episodes.find('div', class_='airdate').text.strip()\n",
    "            rating = episodes.find('span', class_='ipl-rating-star__rating').text\n",
    "            total_votes = episodes.find('span', class_='ipl-rating-star__total-votes').text\n",
    "            desc = episodes.find('div', class_='item_description').text.strip()\n",
    "            episode_data = [season, episode, title, airdate, rating, total_votes, desc]\n",
    "            mf.append(episode_data)"
   ]
  },
  {
   "cell_type": "code",
   "execution_count": 21,
   "metadata": {},
   "outputs": [],
   "source": [
    "modern_family = pd.DataFrame(mf, columns = ['season', 'episode_number', 'title', 'airdate', 'rating', 'total_votes', 'desc'])"
   ]
  },
  {
   "cell_type": "markdown",
   "metadata": {},
   "source": [
    "## Pre-processing"
   ]
  },
  {
   "cell_type": "code",
   "execution_count": 22,
   "metadata": {},
   "outputs": [
    {
     "data": {
      "text/html": [
       "<div>\n",
       "<style scoped>\n",
       "    .dataframe tbody tr th:only-of-type {\n",
       "        vertical-align: middle;\n",
       "    }\n",
       "\n",
       "    .dataframe tbody tr th {\n",
       "        vertical-align: top;\n",
       "    }\n",
       "\n",
       "    .dataframe thead th {\n",
       "        text-align: right;\n",
       "    }\n",
       "</style>\n",
       "<table border=\"1\" class=\"dataframe\">\n",
       "  <thead>\n",
       "    <tr style=\"text-align: right;\">\n",
       "      <th></th>\n",
       "      <th>season</th>\n",
       "      <th>episode_number</th>\n",
       "      <th>title</th>\n",
       "      <th>airdate</th>\n",
       "      <th>rating</th>\n",
       "      <th>total_votes</th>\n",
       "      <th>desc</th>\n",
       "    </tr>\n",
       "  </thead>\n",
       "  <tbody>\n",
       "    <tr>\n",
       "      <td>245</td>\n",
       "      <td>11</td>\n",
       "      <td>14</td>\n",
       "      <td>Spuds</td>\n",
       "      <td>19 Feb. 2020</td>\n",
       "      <td>7.6</td>\n",
       "      <td>(496)</td>\n",
       "      <td>Phil and Claire take Haley and Dylan to dinner...</td>\n",
       "    </tr>\n",
       "    <tr>\n",
       "      <td>246</td>\n",
       "      <td>11</td>\n",
       "      <td>15</td>\n",
       "      <td>Baby Steps</td>\n",
       "      <td>18 Mar. 2020</td>\n",
       "      <td>7.2</td>\n",
       "      <td>(445)</td>\n",
       "      <td>Claire lands an interview for her dream job bu...</td>\n",
       "    </tr>\n",
       "    <tr>\n",
       "      <td>247</td>\n",
       "      <td>11</td>\n",
       "      <td>16</td>\n",
       "      <td>I'm Going to Miss This</td>\n",
       "      <td>1 Apr. 2020</td>\n",
       "      <td>7.2</td>\n",
       "      <td>(422)</td>\n",
       "      <td>Mitchell is having a hard time letting go of h...</td>\n",
       "    </tr>\n",
       "    <tr>\n",
       "      <td>248</td>\n",
       "      <td>11</td>\n",
       "      <td>17</td>\n",
       "      <td>Finale Part 1</td>\n",
       "      <td>8 Apr. 2020</td>\n",
       "      <td>8.3</td>\n",
       "      <td>(625)</td>\n",
       "      <td>Mitchell and Cam settle into their new normal;...</td>\n",
       "    </tr>\n",
       "    <tr>\n",
       "      <td>249</td>\n",
       "      <td>11</td>\n",
       "      <td>18</td>\n",
       "      <td>Finale Part 2</td>\n",
       "      <td>8 Apr. 2020</td>\n",
       "      <td>8.4</td>\n",
       "      <td>(751)</td>\n",
       "      <td>Phil and Claire tell their kids that one of th...</td>\n",
       "    </tr>\n",
       "  </tbody>\n",
       "</table>\n",
       "</div>"
      ],
      "text/plain": [
       "     season episode_number                   title       airdate rating  \\\n",
       "245      11             14                   Spuds  19 Feb. 2020    7.6   \n",
       "246      11             15              Baby Steps  18 Mar. 2020    7.2   \n",
       "247      11             16  I'm Going to Miss This   1 Apr. 2020    7.2   \n",
       "248      11             17           Finale Part 1   8 Apr. 2020    8.3   \n",
       "249      11             18           Finale Part 2   8 Apr. 2020    8.4   \n",
       "\n",
       "    total_votes                                               desc  \n",
       "245       (496)  Phil and Claire take Haley and Dylan to dinner...  \n",
       "246       (445)  Claire lands an interview for her dream job bu...  \n",
       "247       (422)  Mitchell is having a hard time letting go of h...  \n",
       "248       (625)  Mitchell and Cam settle into their new normal;...  \n",
       "249       (751)  Phil and Claire tell their kids that one of th...  "
      ]
     },
     "execution_count": 22,
     "metadata": {},
     "output_type": "execute_result"
    }
   ],
   "source": [
    "modern_family.tail()"
   ]
  },
  {
   "cell_type": "code",
   "execution_count": 23,
   "metadata": {},
   "outputs": [
    {
     "data": {
      "text/plain": [
       "season             int64\n",
       "episode_number    object\n",
       "title             object\n",
       "airdate           object\n",
       "rating            object\n",
       "total_votes       object\n",
       "desc              object\n",
       "dtype: object"
      ]
     },
     "execution_count": 23,
     "metadata": {},
     "output_type": "execute_result"
    }
   ],
   "source": [
    "modern_family.dtypes"
   ]
  },
  {
   "cell_type": "code",
   "execution_count": 24,
   "metadata": {},
   "outputs": [],
   "source": [
    "modern_family['total_votes'] = modern_family['total_votes'].str.replace(\"(\", \"\")\n",
    "modern_family['total_votes'] = modern_family['total_votes'].str.replace(\")\", \"\")\n",
    "modern_family['total_votes'] = modern_family['total_votes'].str.replace(\",\", \"\")\n",
    "modern_family['total_votes'] = modern_family['total_votes'].astype(int)"
   ]
  },
  {
   "cell_type": "code",
   "execution_count": 27,
   "metadata": {},
   "outputs": [],
   "source": [
    "modern_family['rating'] = modern_family['rating'].astype(float)\n",
    "modern_family['airdate'] = pd.to_datetime(modern_family['airdate'])"
   ]
  },
  {
   "cell_type": "code",
   "execution_count": 29,
   "metadata": {},
   "outputs": [
    {
     "data": {
      "text/html": [
       "<div>\n",
       "<style scoped>\n",
       "    .dataframe tbody tr th:only-of-type {\n",
       "        vertical-align: middle;\n",
       "    }\n",
       "\n",
       "    .dataframe tbody tr th {\n",
       "        vertical-align: top;\n",
       "    }\n",
       "\n",
       "    .dataframe thead th {\n",
       "        text-align: right;\n",
       "    }\n",
       "</style>\n",
       "<table border=\"1\" class=\"dataframe\">\n",
       "  <thead>\n",
       "    <tr style=\"text-align: right;\">\n",
       "      <th></th>\n",
       "      <th>season</th>\n",
       "      <th>episode_number</th>\n",
       "      <th>title</th>\n",
       "      <th>airdate</th>\n",
       "      <th>rating</th>\n",
       "      <th>total_votes</th>\n",
       "      <th>desc</th>\n",
       "    </tr>\n",
       "  </thead>\n",
       "  <tbody>\n",
       "    <tr>\n",
       "      <td>0</td>\n",
       "      <td>1</td>\n",
       "      <td>1</td>\n",
       "      <td>Pilot</td>\n",
       "      <td>2009-09-23</td>\n",
       "      <td>8.2</td>\n",
       "      <td>2808</td>\n",
       "      <td>Jay must adapt to his young new wife, Gloria a...</td>\n",
       "    </tr>\n",
       "    <tr>\n",
       "      <td>1</td>\n",
       "      <td>1</td>\n",
       "      <td>2</td>\n",
       "      <td>The Bicycle Thief</td>\n",
       "      <td>2009-09-30</td>\n",
       "      <td>8.2</td>\n",
       "      <td>2293</td>\n",
       "      <td>After buying a new bike for his son, Phil ends...</td>\n",
       "    </tr>\n",
       "    <tr>\n",
       "      <td>2</td>\n",
       "      <td>1</td>\n",
       "      <td>3</td>\n",
       "      <td>Come Fly with Me</td>\n",
       "      <td>2009-10-07</td>\n",
       "      <td>8.0</td>\n",
       "      <td>2015</td>\n",
       "      <td>Jay takes Phil on a model-airplane excursion w...</td>\n",
       "    </tr>\n",
       "    <tr>\n",
       "      <td>3</td>\n",
       "      <td>1</td>\n",
       "      <td>4</td>\n",
       "      <td>The Incident</td>\n",
       "      <td>2009-10-14</td>\n",
       "      <td>8.2</td>\n",
       "      <td>2071</td>\n",
       "      <td>Jay's ex-wife shows up for the first time foll...</td>\n",
       "    </tr>\n",
       "    <tr>\n",
       "      <td>4</td>\n",
       "      <td>1</td>\n",
       "      <td>5</td>\n",
       "      <td>Coal Digger</td>\n",
       "      <td>2009-10-21</td>\n",
       "      <td>8.3</td>\n",
       "      <td>1990</td>\n",
       "      <td>A conflict between Manny and Luke spreads to t...</td>\n",
       "    </tr>\n",
       "  </tbody>\n",
       "</table>\n",
       "</div>"
      ],
      "text/plain": [
       "   season episode_number              title    airdate  rating  total_votes  \\\n",
       "0       1              1              Pilot 2009-09-23     8.2         2808   \n",
       "1       1              2  The Bicycle Thief 2009-09-30     8.2         2293   \n",
       "2       1              3   Come Fly with Me 2009-10-07     8.0         2015   \n",
       "3       1              4       The Incident 2009-10-14     8.2         2071   \n",
       "4       1              5        Coal Digger 2009-10-21     8.3         1990   \n",
       "\n",
       "                                                desc  \n",
       "0  Jay must adapt to his young new wife, Gloria a...  \n",
       "1  After buying a new bike for his son, Phil ends...  \n",
       "2  Jay takes Phil on a model-airplane excursion w...  \n",
       "3  Jay's ex-wife shows up for the first time foll...  \n",
       "4  A conflict between Manny and Luke spreads to t...  "
      ]
     },
     "execution_count": 29,
     "metadata": {},
     "output_type": "execute_result"
    }
   ],
   "source": [
    "modern_family.head()"
   ]
  },
  {
   "cell_type": "code",
   "execution_count": 30,
   "metadata": {},
   "outputs": [
    {
     "data": {
      "text/plain": [
       "season                     int64\n",
       "episode_number            object\n",
       "title                     object\n",
       "airdate           datetime64[ns]\n",
       "rating                   float64\n",
       "total_votes                int64\n",
       "desc                      object\n",
       "dtype: object"
      ]
     },
     "execution_count": 30,
     "metadata": {},
     "output_type": "execute_result"
    }
   ],
   "source": [
    "modern_family.dtypes"
   ]
  },
  {
   "cell_type": "code",
   "execution_count": 31,
   "metadata": {},
   "outputs": [],
   "source": [
    "modern_family.to_csv('modern_family.csv')"
   ]
  },
  {
   "cell_type": "code",
   "execution_count": 37,
   "metadata": {},
   "outputs": [],
   "source": [
    "mf = modern_family"
   ]
  },
  {
   "cell_type": "markdown",
   "metadata": {},
   "source": [
    "## Data Exploration"
   ]
  },
  {
   "cell_type": "code",
   "execution_count": null,
   "metadata": {},
   "outputs": [],
   "source": []
  }
 ],
 "metadata": {
  "kernelspec": {
   "display_name": "Python 3",
   "language": "python",
   "name": "python3"
  },
  "language_info": {
   "codemirror_mode": {
    "name": "ipython",
    "version": 3
   },
   "file_extension": ".py",
   "mimetype": "text/x-python",
   "name": "python",
   "nbconvert_exporter": "python",
   "pygments_lexer": "ipython3",
   "version": "3.7.4"
  }
 },
 "nbformat": 4,
 "nbformat_minor": 2
}
